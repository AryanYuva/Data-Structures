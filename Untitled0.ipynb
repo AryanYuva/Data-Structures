{
  "nbformat": 4,
  "nbformat_minor": 0,
  "metadata": {
    "colab": {
      "provenance": []
    },
    "kernelspec": {
      "name": "python3",
      "display_name": "Python 3"
    },
    "language_info": {
      "name": "python"
    }
  },
  "cells": [
    {
      "cell_type": "code",
      "execution_count": null,
      "metadata": {
        "id": "6D4HoxCd70OP"
      },
      "outputs": [],
      "source": []
    },
    {
      "cell_type": "markdown",
      "source": [
        "# *DATA STRUCTURE*"
      ],
      "metadata": {
        "id": "Esp18TWj72xY"
      }
    },
    {
      "cell_type": "markdown",
      "source": [
        "Q.1.What are data structures, and why they are importanat?\n",
        "Ans.Data structures are fundamental ways of organizing and storing data so it can be accessed and manipulated efficiently. They are important because they allow programs to manage data in a structured manner, leading to faster execution and easier-to-understand code.\n",
        "(i) They are important for organising data, storing data, efficeinetly."
      ],
      "metadata": {
        "id": "DzuUvQWk8KiZ"
      }
    },
    {
      "cell_type": "markdown",
      "source": [
        "Q.2 Explain the differnece between mutable and immutable data types with examples.\n",
        "Ans. mutable data types can be changed after they are created, while immutable data types cannot be modified once they are initialized. Examples of mutable data types include lists and dictionaries, while examples of immutable data types include strings and tuples."
      ],
      "metadata": {
        "id": "e0oX2xcK85M3"
      }
    },
    {
      "cell_type": "markdown",
      "source": [
        "Q.3. What are the main differences between lists and tuple in Python?\n",
        "Ans.The main difference between lists and tuples in Python lies in their mutability. Lists are mutable, meaning their elements can be changed after creation, while tuples are immutable, meaning their elements cannot be modified once create"
      ],
      "metadata": {
        "id": "r-UWS4zg9TO_"
      }
    },
    {
      "cell_type": "code",
      "source": [],
      "metadata": {
        "id": "KJPXuiYX73Px"
      },
      "execution_count": null,
      "outputs": []
    },
    {
      "cell_type": "markdown",
      "source": [
        "Q.4. Describe how dictionaries store data.\n",
        "Ans.Dictionaries store data as unordered collections of key-value pairs. Each value within the dictionary is associated with a unique key, which acts as an identifier. This key-value structure allows for efficient data retrieval, as you can access a specific value by referencing its corresponding key."
      ],
      "metadata": {
        "id": "-QLmYV5l96Bt"
      }
    },
    {
      "cell_type": "markdown",
      "source": [
        "Q.5. Why might you use a set instead of a list in Python?\n",
        "Ans.Sets and lists are both used to store collections of items in Python, but they have different characteristics that make them suitable for different use cases. Here's why you might use a set instead of a list:\n",
        "Uniqueness:\n",
        "Sets automatically remove duplicate values. If you need to ensure that all elements in a collection are unique, a set is more efficient than a list.\n",
        "Membership testing:\n",
        "Checking if an element exists in a set is faster than checking in a list, especially for large collections. Sets use a hash table for storage, allowing for near-constant time lookups, while lists require iterating through the elements.\n",
        "Set operations:\n",
        "Sets provide built-in operations like union, intersection, and difference, which can be useful for tasks involving comparing or combining collections.\n",
        "Order is not important:\n",
        "Sets do not maintain the order of elements. If the order of elements matters, a list should be used instead.\n",
        "Mutability:\n",
        "Sets are mutable, meaning you can add or remove elements after creation. However, you cannot change an element within a set."
      ],
      "metadata": {
        "id": "vbeZXjFL-NYh"
      }
    },
    {
      "cell_type": "markdown",
      "source": [
        "Q.6. What is a string in Python , and how is it different from a list\n",
        "Ans. A string is a sequence of characters enclosed in single or double quotes. It's used to represent text data. A list, on the other hand, is an ordered collection of items enclosed in square brackets, and it can hold different data types (not just characters). The key difference is that strings are immutable (cannot be changed once created), while lists are mutable (can be modified)."
      ],
      "metadata": {
        "id": "baB_kkzh-xtE"
      }
    },
    {
      "cell_type": "markdown",
      "source": [
        "Q.7. How do tuples ensure data integrity in Python ?\n",
        "Ans.Tuples in Python ensure data integrity primarily through their immutability. Once a tuple is created, its contents cannot be changed, added to, or removed. This characteristic guarantees that the data stored within a tuple remains constant throughout its lifecycle, preventing accidental or unauthorized modifications."
      ],
      "metadata": {
        "id": "O7m4yg6j_7z4"
      }
    },
    {
      "cell_type": "markdown",
      "source": [
        "Q.8. What is a hash table, and how does it realate to dictionaries in Python ?\n",
        "Ans.A hash table is a collection of key-value pairs where each key is hashed (converted into an index) to determine its location in an array (or \"bucket\"). This allows for fast lookups, insertions, and deletions, with an average time complexity of O(1).\n",
        "In Python, dictionaries are implemented as hash tables. When we create a dictionary, Python uses a hash function to determine where to store each key-value pair within the underlying hash table."
      ],
      "metadata": {
        "id": "3EduV3u0Actq"
      }
    },
    {
      "cell_type": "markdown",
      "source": [
        "Q.9.Can lists contain different data types in Python?\n",
        "Ans. Yes, lists conatin different data types means it can store heterogenous data in their container."
      ],
      "metadata": {
        "id": "HlRyIpbGBKuy"
      }
    },
    {
      "cell_type": "markdown",
      "source": [
        "Q.10.Explain why strings are immutable in Python.\n",
        "Ans. Strings are immutable because of several raeson.it is allocated a fixed blocks is it is mutable would requires reallocating memory,which is time consuming operation. Immutability ensures that strings are predictable and efficient.\n",
        "\n"
      ],
      "metadata": {
        "id": "YX0bIPc2Bi0y"
      }
    },
    {
      "cell_type": "code",
      "source": [],
      "metadata": {
        "id": "IBYRnyKrB4vb"
      },
      "execution_count": null,
      "outputs": []
    },
    {
      "cell_type": "markdown",
      "source": [
        "Q.11. What advantages do dictionaries offer over lists for ceratin tasks?\n",
        "Ans. 1 - Dictionaries in Python offer fast data retrieval: Unlike lists where you have to traverse through each element to find a value, dictionaries use hash tables for quick access to values based on keys.\n",
        "\n",
        "2) Easy to understand key value pairs: Dictionaries consist of key value pairs, making it easier to associate and access relevant data together.\n",
        "\n",
        "3) Dynamic data structure: Dictionaries in Python are mutable, meaning you can add, update, or remove key value pairs as needed, providing flexibility in managing data.\n",
        "\n",
        "4) Efficient for storing large amounts of data: Due to its efficient data retrieval mechanism, dictionaries are ideal for storing and accessing large datasets quickly.\n",
        "\n",
        "5) Built in methods for manipulation: Python dictionaries offer a variety of built in methods such as `get()`, `keys()`, `values()`, and `items()` for easy data manipulation and iteration.\n",
        "\n",
        "6) Useful for mapping relationships: Dictionaries are commonly used to map relationships between items, making it easy to store and retrieve interconnected data."
      ],
      "metadata": {
        "id": "pCuCR4GdsWYO"
      }
    },
    {
      "cell_type": "markdown",
      "source": [],
      "metadata": {
        "id": "vsxcUrlUCprq"
      }
    },
    {
      "cell_type": "markdown",
      "source": [
        "Q.12. Describe a scenario where using a tuple would be prefreable over a list.\n",
        "Ans. A tuple should be used over a list when you want to represent a fixed, immutable sequence of data, like a coordinate point (x, y) or a set of constants. This is because tuples are designed to be immutable, ensuring the data remains unchanged, which can be beneficial in situations where data integrity and consistency are significant."
      ],
      "metadata": {
        "id": "qJ8FYKeXtnOh"
      }
    },
    {
      "cell_type": "markdown",
      "source": [
        "Q.13.How do sets handle duplicate values in Python?\n",
        "Ans. n Python, sets are designed to store only unique elements. When attempting to add a duplicate value to a set, it is automatically ignored, and the set remains unchanged. This behavior ensures that sets always contain distinct values, making them useful for tasks such as removing duplicates from a list or checking for membership efficiently.\n",
        "for example the code is given in the bellow cell"
      ],
      "metadata": {
        "id": "s5JZYXssuS5r"
      }
    },
    {
      "cell_type": "code",
      "source": [
        "my_set= {1,2,3,3,2,4,5,4}\n",
        "print(my_set)"
      ],
      "metadata": {
        "colab": {
          "base_uri": "https://localhost:8080/"
        },
        "id": "jxUPSl0Gu43q",
        "outputId": "a317b8d3-8434-49a9-ce9f-17de65c50058"
      },
      "execution_count": null,
      "outputs": [
        {
          "output_type": "stream",
          "name": "stdout",
          "text": [
            "{1, 2, 3, 4, 5}\n"
          ]
        }
      ]
    },
    {
      "cell_type": "code",
      "source": [],
      "metadata": {
        "id": "XzrplmhTvFrR"
      },
      "execution_count": null,
      "outputs": []
    },
    {
      "cell_type": "markdown",
      "source": [
        "Q.14. How does the \"in\" keyword work differently for lists and dictionaries?\n",
        "Ans. The in keyword in Python functions differently for lists and dictionaries. For lists, it checks if a given value exists as a value within the list, while for dictionaries, it checks if a given value exists as a key within the dictionary.\n",
        "\n",
        "\n",
        "Lists:\n",
        "The in operator, when used with a list, iterates through the list elements and checks if the given value matches any of them.\n",
        "If the value is found within the list (as a value, not an index), it returns True; otherwise, it returns False.\n",
        "The efficiency of this search is linear (O(n)), meaning the time it takes to find the value increases proportionally with the length of the list.\n",
        "\n",
        "\n",
        "Dictionaries:\n",
        "The in operator, when used with a dictionary, checks if the given value exists as a key in the dictionary.\n",
        "It returns True if the value is found as a key; otherwise, it returns False.\n",
        "Dictionaries use a hashing algorithm for key lookup, making the in operation very efficient (typically constant time - O(1)), regardless of the dictionary's size.\n",
        "\n",
        "for example code is given to the next cell"
      ],
      "metadata": {
        "id": "vGf8r9bXvWHg"
      }
    },
    {
      "cell_type": "code",
      "source": [
        "my_list =[1,2,3,4,5]\n",
        "print(2 in my_list)"
      ],
      "metadata": {
        "colab": {
          "base_uri": "https://localhost:8080/"
        },
        "id": "p7hpkOPawJRv",
        "outputId": "d8f12718-3f4f-49e1-fe01-9a3edd69fad3"
      },
      "execution_count": null,
      "outputs": [
        {
          "output_type": "stream",
          "name": "stdout",
          "text": [
            "True\n"
          ]
        }
      ]
    },
    {
      "cell_type": "code",
      "source": [
        "my_dict={1,2,\"a\",5,\"b\",\"c\",6}\n",
        "print(\"b\"in my_dict)"
      ],
      "metadata": {
        "colab": {
          "base_uri": "https://localhost:8080/"
        },
        "id": "B3tSvnR_wfQ4",
        "outputId": "042d08fb-b3a5-41df-d378-14d86af3c302"
      },
      "execution_count": null,
      "outputs": [
        {
          "output_type": "stream",
          "name": "stdout",
          "text": [
            "True\n"
          ]
        }
      ]
    },
    {
      "cell_type": "code",
      "source": [],
      "metadata": {
        "id": "cdtTSO5jxBml"
      },
      "execution_count": null,
      "outputs": []
    },
    {
      "cell_type": "markdown",
      "source": [
        "Q.15.Can you modify the elements of a tuple? Explain why or why not.\n",
        "Ans.No, we  cannot directly modify the elements of a tuple in Python. Tuples are immutable data structures, meaning their elements cannot be changed after they are created. Attempting to assign a new value to an element within a tuple will raise a TypeError.\n",
        "Because, tuples are designed for fixed, unchangeable collections of data, and their immutability provides benefits in terms of performance and data integrity."
      ],
      "metadata": {
        "id": "ourRhHclxCs4"
      }
    },
    {
      "cell_type": "markdown",
      "source": [
        "Q.16.What is a nested dictionary, and give  an example of its use case?\n",
        "Ans. A nested dictionary in Python is a dictionary where the values are themselves dictionaries. This allows for structuring data in a hierarchical way, where you can store complex, multi-layered information. A common use case is representing hierarchical data like family trees or organizational charts.\n"
      ],
      "metadata": {
        "id": "v9v7cBATxoLt"
      }
    },
    {
      "cell_type": "markdown",
      "source": [
        "Q.17.Describe the time compexity of a accessing elements in a dictionary.\n",
        "Ans. The time complexity of accessing an element in a dictionary  is typically O(1), meaning it takes constant time regardless of the dictionary's size. This is because dictionaries use hashing to map keys to their corresponding values, allowing for direct access to the desired value in a single step."
      ],
      "metadata": {
        "id": "FMKLPE-rydnz"
      }
    },
    {
      "cell_type": "markdown",
      "source": [
        "Q.18. In what situations are lists preferred over dictionaries?\n",
        "Ans. Lists are preferred over dictionaries when the order of elements is crucial, or when we need to perform operations like appending or extending, which are not directly supported by dictionaries. Lists are also suitable for scenarios where you want to access elements using their numerical index.  "
      ],
      "metadata": {
        "id": "bA_2kfZ4y5Z3"
      }
    },
    {
      "cell_type": "markdown",
      "source": [
        "Q.19.Why are dictionaries considerd unordered, and how does that affect data retrival?\n",
        "Ans. Dictionaries are considered unordered because they don't maintain the order in which elements are added. This means that when we access or iterate through a dictionary, the order of the key-value pairs is not guaranteed to be the same as the order in which they were inserted. This lack of inherent order affects data retrieval as it means we can't rely on position to access an element, and instead must use the key."
      ],
      "metadata": {
        "id": "5U0UdPzPzREK"
      }
    },
    {
      "cell_type": "markdown",
      "source": [
        "Q.20. Explain the difference between a list and a dictionary in terms of data retrival.\n",
        "Ans. In terms of data retrieval, a dictionary excels at fast lookups by key, while a list is better suited for sequential access by index. Dictionaries use a hash-based approach, allowing for nearly instantaneous retrieval of a value when the key is known, whereas lists require traversing the list sequentially until the desired element is found."
      ],
      "metadata": {
        "id": "0392c5Cwz5TV"
      }
    },
    {
      "cell_type": "markdown",
      "source": [
        "#** DATA STRUCTRURE PRACTICAL QUESTIONS**"
      ],
      "metadata": {
        "id": "8Z7ib-0K0SRI"
      }
    },
    {
      "cell_type": "code",
      "source": [
        "# Q.1 Write a code to create a string with your name and print it.\n",
        "my_name=\"Aryan\"\n",
        "print(my_name)"
      ],
      "metadata": {
        "colab": {
          "base_uri": "https://localhost:8080/"
        },
        "id": "TNGHVM3t0eDc",
        "outputId": "2de26a9a-0cba-4214-89ba-ba57d2a25e30"
      },
      "execution_count": null,
      "outputs": [
        {
          "output_type": "stream",
          "name": "stdout",
          "text": [
            "Aryan\n"
          ]
        }
      ]
    },
    {
      "cell_type": "code",
      "source": [
        "#Q.2 Write a code to find the length of the string \"Hello World\".\n",
        "my_string= \"Hello World\"\n",
        "print(len(my_string))"
      ],
      "metadata": {
        "id": "IcBX4Z17013t",
        "colab": {
          "base_uri": "https://localhost:8080/"
        },
        "outputId": "5dcec086-9a97-4e0d-bcb9-a604a86e073f"
      },
      "execution_count": 1,
      "outputs": [
        {
          "output_type": "stream",
          "name": "stdout",
          "text": [
            "11\n"
          ]
        }
      ]
    },
    {
      "cell_type": "code",
      "source": [
        "# Q.3 Write a code slice the first 3 characters from the string \"Python programming\".\n",
        "my_string=\"Python programming\"\n",
        "print(my_string[0:3])"
      ],
      "metadata": {
        "colab": {
          "base_uri": "https://localhost:8080/"
        },
        "id": "8KN8G2ngswrc",
        "outputId": "b844509b-c5eb-478a-c3a7-eaaff144416d"
      },
      "execution_count": 2,
      "outputs": [
        {
          "output_type": "stream",
          "name": "stdout",
          "text": [
            "Pyt\n"
          ]
        }
      ]
    },
    {
      "cell_type": "code",
      "source": [
        "# Q.4 Write a code to convert the string \"hello\" to uppercase.\n",
        "my_string=\"hello\"\n",
        "print(my_string.upper())"
      ],
      "metadata": {
        "colab": {
          "base_uri": "https://localhost:8080/"
        },
        "id": "FMo5GQFntVVd",
        "outputId": "4f5dc08b-253a-4316-e668-a1b56e7cd3aa"
      },
      "execution_count": 4,
      "outputs": [
        {
          "output_type": "stream",
          "name": "stdout",
          "text": [
            "HELLO\n"
          ]
        }
      ]
    },
    {
      "cell_type": "code",
      "source": [
        "# Q.5 Write a code to replace the word \"apple\" with \"orange\" in the string \"I like apple\".\n",
        "my_string=\"I like apple\"\n",
        "print(my_string.replace(\"apple\",\"orange\"))"
      ],
      "metadata": {
        "colab": {
          "base_uri": "https://localhost:8080/"
        },
        "id": "PIptIpdatwH2",
        "outputId": "a2b5fbb5-dcd9-4c3d-dff2-36bb24b46221"
      },
      "execution_count": 5,
      "outputs": [
        {
          "output_type": "stream",
          "name": "stdout",
          "text": [
            "I like orange\n"
          ]
        }
      ]
    },
    {
      "cell_type": "code",
      "source": [
        "# Q.6 Write a code to create a list with numbers 1 to 5 amd print it.\n",
        "my_list=[1,2,3,4,5]\n",
        "print(my_list)"
      ],
      "metadata": {
        "colab": {
          "base_uri": "https://localhost:8080/"
        },
        "id": "1sWszCoyuaUC",
        "outputId": "5697d01a-9102-4fac-d614-6efea3c7da49"
      },
      "execution_count": 6,
      "outputs": [
        {
          "output_type": "stream",
          "name": "stdout",
          "text": [
            "[1, 2, 3, 4, 5]\n"
          ]
        }
      ]
    },
    {
      "cell_type": "code",
      "source": [
        "# Q.7 Write a code append the number 10 to the list [1,2,3,4].\n",
        "my_list=[1,2,3,4]\n",
        "my_list.append(10)\n",
        "print(my_list)"
      ],
      "metadata": {
        "colab": {
          "base_uri": "https://localhost:8080/"
        },
        "id": "GE6tjGyjuyko",
        "outputId": "618aab15-1404-49ca-a1e0-53b1731fe784"
      },
      "execution_count": 7,
      "outputs": [
        {
          "output_type": "stream",
          "name": "stdout",
          "text": [
            "[1, 2, 3, 4, 10]\n"
          ]
        }
      ]
    },
    {
      "cell_type": "code",
      "source": [
        "# Q.8 Write a code to remove the number 3 from the list [1,2,3,4,5].\n",
        "my_list=[1,2,3,4,5]\n",
        "my_list.remove(3)\n",
        "print(my_list)"
      ],
      "metadata": {
        "colab": {
          "base_uri": "https://localhost:8080/"
        },
        "id": "340vXLWQvMt0",
        "outputId": "c336c5f2-1ba5-4ebb-c563-81c89c95b18b"
      },
      "execution_count": 8,
      "outputs": [
        {
          "output_type": "stream",
          "name": "stdout",
          "text": [
            "[1, 2, 4, 5]\n"
          ]
        }
      ]
    },
    {
      "cell_type": "code",
      "source": [
        "# Q.9 Write a code access the second element in the list ['a','b','c','d']\n",
        "my_list=['a','b','c','d']\n",
        "print(my_list[1])"
      ],
      "metadata": {
        "colab": {
          "base_uri": "https://localhost:8080/"
        },
        "id": "o2HCnnrnvolu",
        "outputId": "8a151ebd-8d94-48e0-fdf9-b44b1f645fc7"
      },
      "execution_count": 11,
      "outputs": [
        {
          "output_type": "stream",
          "name": "stdout",
          "text": [
            "b\n"
          ]
        }
      ]
    },
    {
      "cell_type": "code",
      "source": [
        "# Q.10 Write a code to reverse the list [10,20,30,40,50].\n",
        "my_list=[10,20,30,40,50]\n",
        "print(my_list[::(-1)])"
      ],
      "metadata": {
        "colab": {
          "base_uri": "https://localhost:8080/"
        },
        "id": "c0Glqv-VwOjc",
        "outputId": "dc5a93f6-7b7a-4b27-8c50-1548697e86a4"
      },
      "execution_count": 12,
      "outputs": [
        {
          "output_type": "stream",
          "name": "stdout",
          "text": [
            "[50, 40, 30, 20, 10]\n"
          ]
        }
      ]
    },
    {
      "cell_type": "code",
      "source": [
        "# Q.11 Write a code to create a tuple with the elements 100,200,300 and print it.\n",
        "my_tuple=(100,200,300)\n",
        "print(my_tuple)"
      ],
      "metadata": {
        "colab": {
          "base_uri": "https://localhost:8080/"
        },
        "id": "Q1sdl-6JwsTp",
        "outputId": "5b3f1d20-00d6-4c2d-9844-a048e7d1f72e"
      },
      "execution_count": 14,
      "outputs": [
        {
          "output_type": "stream",
          "name": "stdout",
          "text": [
            "(100, 200, 300)\n"
          ]
        }
      ]
    },
    {
      "cell_type": "code",
      "source": [
        "# Q.12  Write a code to access the second-to-last element of the tuple('red','green','blue','yellow')\n",
        "my_tuple=('red','green','blue','yellow')\n",
        "print(my_tuple[1::])"
      ],
      "metadata": {
        "colab": {
          "base_uri": "https://localhost:8080/"
        },
        "id": "TZlacNTJxKB0",
        "outputId": "8b67b84d-29a6-443a-9f55-65d4a53176a2"
      },
      "execution_count": 16,
      "outputs": [
        {
          "output_type": "stream",
          "name": "stdout",
          "text": [
            "('green', 'blue', 'yellow')\n"
          ]
        }
      ]
    },
    {
      "cell_type": "code",
      "source": [
        "# Q.13 Write a code to find the minimum number in the tuple (10,20,5,15)\n",
        "my_tuple=(10,20,5,15)\n",
        "min_number= min(my_tuple)\n",
        "print(min_number)"
      ],
      "metadata": {
        "colab": {
          "base_uri": "https://localhost:8080/"
        },
        "id": "TV_5ZM4nx9wL",
        "outputId": "908abf4e-e26e-41b6-f247-18aa25342645"
      },
      "execution_count": 20,
      "outputs": [
        {
          "output_type": "stream",
          "name": "stdout",
          "text": [
            "5\n"
          ]
        }
      ]
    },
    {
      "cell_type": "code",
      "source": [
        "# Q.14 Write a code to find the index of the element \"cat\" in the tuple ('dog','cat','rabbit')\n",
        "my_tuple=('dog','cat','rabbit')\n",
        "print(my_tuple.index('cat'))"
      ],
      "metadata": {
        "colab": {
          "base_uri": "https://localhost:8080/"
        },
        "id": "OAQsIWqbysqB",
        "outputId": "55681e00-c8df-4063-d99d-bcf50d532eea"
      },
      "execution_count": 24,
      "outputs": [
        {
          "output_type": "stream",
          "name": "stdout",
          "text": [
            "1\n"
          ]
        }
      ]
    },
    {
      "cell_type": "code",
      "source": [
        "# Q.15  Write a code to create a tuple containing three different fruits and check \"kiwi\" is in it.\n",
        "my_tuple=(\"apple\",\"kiwi\",\"orange\")\n",
        "print(\"kiwi\" in my_tuple)"
      ],
      "metadata": {
        "colab": {
          "base_uri": "https://localhost:8080/"
        },
        "id": "Hdpj7rPTz5rr",
        "outputId": "ad365f1a-bdf3-4464-f01d-80c85e6ebecb"
      },
      "execution_count": 25,
      "outputs": [
        {
          "output_type": "stream",
          "name": "stdout",
          "text": [
            "True\n"
          ]
        }
      ]
    },
    {
      "cell_type": "code",
      "source": [
        "# Q.16 Write a code to create a set with the elements 'a','b','c' and print it.\n",
        "my_set={'a','b','c'}\n",
        "print(my_set)"
      ],
      "metadata": {
        "colab": {
          "base_uri": "https://localhost:8080/"
        },
        "id": "LJPAfsfK01tC",
        "outputId": "4ded13ff-3676-4ad0-d226-28f2ff9cfc69"
      },
      "execution_count": 26,
      "outputs": [
        {
          "output_type": "stream",
          "name": "stdout",
          "text": [
            "{'a', 'c', 'b'}\n"
          ]
        }
      ]
    },
    {
      "cell_type": "code",
      "source": [
        "# Q.17 Write a code to clear all elements from the set {1,2,3,4,5}.\n",
        "my_set={1,2,3,4,5}\n",
        "my_set.clear()\n",
        "print(my_set)"
      ],
      "metadata": {
        "colab": {
          "base_uri": "https://localhost:8080/"
        },
        "id": "aRR26xct1OfB",
        "outputId": "e72a670f-a48c-464e-9e4e-f7a3fa46be8f"
      },
      "execution_count": 29,
      "outputs": [
        {
          "output_type": "stream",
          "name": "stdout",
          "text": [
            "set()\n"
          ]
        }
      ]
    },
    {
      "cell_type": "code",
      "source": [
        "# Q.18 Write a code to remove the elemnt 4 from the set {1,2,3,4}\n",
        "my_set={1,2,3,4}\n",
        "my_set.remove(4)\n",
        "print(my_set)"
      ],
      "metadata": {
        "colab": {
          "base_uri": "https://localhost:8080/"
        },
        "id": "E-Z2z-YG1nqc",
        "outputId": "c67f4e7e-2ffe-403c-da6d-c6737b81183b"
      },
      "execution_count": 30,
      "outputs": [
        {
          "output_type": "stream",
          "name": "stdout",
          "text": [
            "{1, 2, 3}\n"
          ]
        }
      ]
    },
    {
      "cell_type": "code",
      "source": [
        "# Q.19 Write a code to find the union of two sets {1,2,3} and {3,4,5}.\n",
        "my_set1={1,2,3}\n",
        "my_set2={3,4,5}\n",
        "print(my_set1.union(my_set2))"
      ],
      "metadata": {
        "colab": {
          "base_uri": "https://localhost:8080/"
        },
        "id": "mICmUt0z2Inj",
        "outputId": "5ab2bcf8-f951-423f-add1-0b4af0ef74bc"
      },
      "execution_count": 31,
      "outputs": [
        {
          "output_type": "stream",
          "name": "stdout",
          "text": [
            "{1, 2, 3, 4, 5}\n"
          ]
        }
      ]
    },
    {
      "cell_type": "code",
      "source": [
        "# Q.20Write a code to find the intersection of two sets {1,2,3}and {2,3,4}.\n",
        "my_set1={1,2,3}\n",
        "my_set2={2,3,4}\n",
        "print(my_set1.intersection(my_set2))"
      ],
      "metadata": {
        "colab": {
          "base_uri": "https://localhost:8080/"
        },
        "id": "Pz3Q59P02lqR",
        "outputId": "585914da-ef4e-4f2d-e642-d7f1c358cf0a"
      },
      "execution_count": 32,
      "outputs": [
        {
          "output_type": "stream",
          "name": "stdout",
          "text": [
            "{2, 3}\n"
          ]
        }
      ]
    },
    {
      "cell_type": "code",
      "source": [
        "# Q.21 Write a code to create a dictionary with the keys \"name\", \"age\",and \"city\" and print it.\n",
        "my_dict={\"name\": \"Aryan\",\"age\": \"27\",\"city\":\"delhi\"}\n",
        "print(my_dict)"
      ],
      "metadata": {
        "colab": {
          "base_uri": "https://localhost:8080/"
        },
        "id": "IuRv57fn3DnK",
        "outputId": "607c1256-0dcd-42ae-fa14-72302b2a7ccb"
      },
      "execution_count": 33,
      "outputs": [
        {
          "output_type": "stream",
          "name": "stdout",
          "text": [
            "{'name': 'Aryan', 'age': '27', 'city': 'delhi'}\n"
          ]
        }
      ]
    },
    {
      "cell_type": "code",
      "source": [
        "# Q.22 Write a code to add a new key-value pair \"country\":\"USA\" to the dictionary{'name':'Alice','age':25}\n",
        "my_dict={'name':'John','age':25}\n",
        "my_dict[\"country\"]=\"USA\"\n",
        "print(my_dict)"
      ],
      "metadata": {
        "colab": {
          "base_uri": "https://localhost:8080/"
        },
        "id": "xbwiFOff4o7n",
        "outputId": "b19e3b8b-8eb6-438d-c52d-cc79318cf089"
      },
      "execution_count": 36,
      "outputs": [
        {
          "output_type": "stream",
          "name": "stdout",
          "text": [
            "{'name': 'John', 'age': 25, 'country': 'USA'}\n"
          ]
        }
      ]
    },
    {
      "cell_type": "code",
      "source": [
        "# Q.23 Write a code to access the value associate with the key \"name\" in the dictionary {'name': 'Alice','age':30}\n",
        "my_dict={'name': 'Alice','age':30}\n",
        "print(my_dict['name'])"
      ],
      "metadata": {
        "colab": {
          "base_uri": "https://localhost:8080/"
        },
        "id": "PE_TGX0t9cw1",
        "outputId": "35b63d2f-3916-4ed5-f2a0-820363d1b11f"
      },
      "execution_count": 37,
      "outputs": [
        {
          "output_type": "stream",
          "name": "stdout",
          "text": [
            "Alice\n"
          ]
        }
      ]
    },
    {
      "cell_type": "code",
      "source": [
        "# Q.24  Write a code to remove the key \"age\" from the dictionary {'name':'Bob','age':22,'city':'New york'}.\n",
        "my_dict={'name':'Bob','age':22,'city':'New york'}\n",
        "my_dict.pop('age')\n",
        "print(my_dict)"
      ],
      "metadata": {
        "colab": {
          "base_uri": "https://localhost:8080/"
        },
        "id": "6vWHftIb_E7o",
        "outputId": "14dfe75d-0c1e-4045-a8a7-84498a065748"
      },
      "execution_count": 38,
      "outputs": [
        {
          "output_type": "stream",
          "name": "stdout",
          "text": [
            "{'name': 'Bob', 'city': 'New york'}\n"
          ]
        }
      ]
    },
    {
      "cell_type": "code",
      "source": [
        "# Q.25  Write a code to check if the key \"city\" exists in the dictionary {'name':'Alice','city': 'New york'}.\n",
        "my_dict= {'name':'Alice','city': 'New york'}\n",
        "print('city' in my_dict)"
      ],
      "metadata": {
        "colab": {
          "base_uri": "https://localhost:8080/"
        },
        "id": "Tu2f54Zg_55a",
        "outputId": "c658c9ba-2760-4645-b216-be826a78affa"
      },
      "execution_count": 41,
      "outputs": [
        {
          "output_type": "stream",
          "name": "stdout",
          "text": [
            "True\n"
          ]
        }
      ]
    },
    {
      "cell_type": "code",
      "source": [
        "# Q.26 Write a code to create a list, a tuple, and a dictionary, and print them all.\n",
        "my_list=[1,2,3,4,5]\n",
        "my_tuple=(1,2,3,4,5)\n",
        "my_dict={1,2,3,4,5}\n",
        "print(my_list,my_tuple,my_dict)"
      ],
      "metadata": {
        "colab": {
          "base_uri": "https://localhost:8080/"
        },
        "id": "aIe4Ol4YA_hZ",
        "outputId": "12c562fc-5905-470b-db6e-4ad79b894c0c"
      },
      "execution_count": 42,
      "outputs": [
        {
          "output_type": "stream",
          "name": "stdout",
          "text": [
            "[1, 2, 3, 4, 5] (1, 2, 3, 4, 5) {1, 2, 3, 4, 5}\n"
          ]
        }
      ]
    },
    {
      "cell_type": "code",
      "source": [
        "# Q.27  Write a code to create a list of 5 random numbers between 1 and 100,sort it in ascending order, and print the result.(replaced).\n",
        "import random\n",
        "my_list=[random.randint(1,100)for i in range(5)]\n",
        "my_list.sort()\n",
        "print(my_list)\n"
      ],
      "metadata": {
        "colab": {
          "base_uri": "https://localhost:8080/"
        },
        "id": "zr_F_HABB2jk",
        "outputId": "01d63c65-f0bc-4b96-a108-9302aa2864b1"
      },
      "execution_count": 49,
      "outputs": [
        {
          "output_type": "stream",
          "name": "stdout",
          "text": [
            "[3, 6, 16, 55, 68]\n"
          ]
        }
      ]
    },
    {
      "cell_type": "code",
      "source": [
        "# Q.28 Write a code to create a list with strings and print the elements at the third index.\n",
        "my_list=[\"apple\",\"banana\",\"orange\",\"kiwi\",\"papaya\"]\n",
        "print(my_list[3])\n"
      ],
      "metadata": {
        "colab": {
          "base_uri": "https://localhost:8080/"
        },
        "id": "pErtteHkEOOr",
        "outputId": "65ca78db-1a4f-40ce-d07d-c22c3328ef84"
      },
      "execution_count": 50,
      "outputs": [
        {
          "output_type": "stream",
          "name": "stdout",
          "text": [
            "kiwi\n"
          ]
        }
      ]
    },
    {
      "cell_type": "code",
      "source": [
        "# Q.29 Write a code to combine two dictionaries into one and print the result.\n",
        "my_dict1={'a':20,'b':30}\n",
        "my_dict2={'c':40,'d':50}\n",
        "my_dict1.update(my_dict2)\n",
        "print(my_dict1)"
      ],
      "metadata": {
        "colab": {
          "base_uri": "https://localhost:8080/"
        },
        "id": "04Yxqi9CFw45",
        "outputId": "ef21fe28-d74f-46fc-fde7-ef25a4d41eef"
      },
      "execution_count": 51,
      "outputs": [
        {
          "output_type": "stream",
          "name": "stdout",
          "text": [
            "{'a': 20, 'b': 30, 'c': 40, 'd': 50}\n"
          ]
        }
      ]
    },
    {
      "cell_type": "code",
      "source": [
        "# Q.30 Write a code to convert a list of string into a set.\n",
        "my_list=[\"hindi\",\"english\",\"science\",\"maths\",\"sst\"]\n",
        "my_list=set(my_list)\n",
        "print(my_list)"
      ],
      "metadata": {
        "colab": {
          "base_uri": "https://localhost:8080/"
        },
        "id": "CduZD6_OGZB6",
        "outputId": "db0573ec-7793-4bea-ed65-7f0c70ddef90"
      },
      "execution_count": 52,
      "outputs": [
        {
          "output_type": "stream",
          "name": "stdout",
          "text": [
            "{'science', 'english', 'hindi', 'maths', 'sst'}\n"
          ]
        }
      ]
    },
    {
      "cell_type": "code",
      "source": [],
      "metadata": {
        "id": "FrgK-jyhG9f6"
      },
      "execution_count": null,
      "outputs": []
    }
  ]
}
